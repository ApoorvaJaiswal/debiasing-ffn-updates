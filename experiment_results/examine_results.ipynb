{
 "cells": [
  {
   "cell_type": "code",
   "execution_count": 1,
   "id": "37407ed4",
   "metadata": {},
   "outputs": [],
   "source": [
    "import pickle"
   ]
  },
  {
   "cell_type": "code",
   "execution_count": 28,
   "id": "0eea5005",
   "metadata": {},
   "outputs": [],
   "source": [
    "file = open(\"experiment_results/gpt2-unqover-baseline.pkl\", \"rb\")\n",
    "gpt2_unqover_baseline = pickle.load(file)\n",
    "file = open(\"experiment_results/gpt2-unqover-config-1.pkl\", \"rb\")\n",
    "gpt2_unqover_config_1 = pickle.load(file)\n",
    "file = open(\"experiment_results/gpt2-unqover-config-2.pkl\", \"rb\")\n",
    "gpt2_unqover_config_2 = pickle.load(file)\n",
    "file = open(\"experiment_results/gpt2-unqover-config-14.pkl\", \"rb\")\n",
    "gpt2_unqover_config_14 = pickle.load(file)\n",
    "file = open(\"experiment_results/gpt2-unqover-config-10.pkl\", \"rb\")\n",
    "gpt2_unqover_config_10 = pickle.load(file)"
   ]
  },
  {
   "cell_type": "code",
   "execution_count": 23,
   "id": "8ee40397",
   "metadata": {},
   "outputs": [
    {
     "name": "stdout",
     "output_type": "stream",
     "text": [
      "Measurements of biases for the gender data: fairness 0.861267041207879\n",
      "Measurements of biases for the nationality data: fairness 0.7898261842224772\n",
      "Measurements of biases for the ethnicity data: fairness 0.8043595082874493\n",
      "Measurements of biases for the religion data: fairness 0.8203567501027443\n"
     ]
    }
   ],
   "source": [
    "# print(gpt2_unqover_baseline)\n",
    "for score in gpt2_unqover_baseline:\n",
    "    print(f\"{score.subtask_description}: fairness {score.score_dict['fairness']}\")"
   ]
  },
  {
   "cell_type": "code",
   "execution_count": 25,
   "id": "80d25353",
   "metadata": {},
   "outputs": [
    {
     "name": "stdout",
     "output_type": "stream",
     "text": [
      "Measurements of biases for the gender data: fairness 0.8456232693300259\n",
      "Measurements of biases for the nationality data: fairness 0.7948453765625699\n",
      "Measurements of biases for the ethnicity data: fairness 0.8123656607524359\n",
      "Measurements of biases for the religion data: fairness 0.835030235915408\n"
     ]
    }
   ],
   "source": [
    "for score in gpt2_unqover_config_1:\n",
    "    print(f\"{score.subtask_description}: fairness {score.score_dict['fairness']}\")"
   ]
  },
  {
   "cell_type": "code",
   "execution_count": 26,
   "id": "83aec1d7",
   "metadata": {},
   "outputs": [
    {
     "name": "stdout",
     "output_type": "stream",
     "text": [
      "Measurements of biases for the gender data: fairness 0.8620802728126227\n",
      "Measurements of biases for the nationality data: fairness 0.7895855927496198\n",
      "Measurements of biases for the ethnicity data: fairness 0.8071602635382489\n",
      "Measurements of biases for the religion data: fairness 0.8204934458073074\n"
     ]
    }
   ],
   "source": [
    "for score in gpt2_unqover_config_2:\n",
    "    print(f\"{score.subtask_description}: fairness {score.score_dict['fairness']}\")"
   ]
  },
  {
   "cell_type": "code",
   "execution_count": 27,
   "id": "19bbd0fe",
   "metadata": {},
   "outputs": [
    {
     "name": "stdout",
     "output_type": "stream",
     "text": [
      "Measurements of biases for the gender data: fairness 0.8596576850024866\n",
      "Measurements of biases for the nationality data: fairness 0.7890597705571312\n",
      "Measurements of biases for the ethnicity data: fairness 0.8047339305916835\n",
      "Measurements of biases for the religion data: fairness 0.8218192863974152\n"
     ]
    }
   ],
   "source": [
    "for score in gpt2_unqover_config_14:\n",
    "    print(f\"{score.subtask_description}: fairness {score.score_dict['fairness']}\")"
   ]
  },
  {
   "cell_type": "code",
   "execution_count": 29,
   "id": "7419d5b9",
   "metadata": {},
   "outputs": [
    {
     "name": "stdout",
     "output_type": "stream",
     "text": [
      "Measurements of biases for the gender data: fairness 0.8628952611538971\n",
      "Measurements of biases for the nationality data: fairness 0.8053043907722977\n",
      "Measurements of biases for the ethnicity data: fairness 0.815640445884347\n",
      "Measurements of biases for the religion data: fairness 0.827191791374595\n"
     ]
    }
   ],
   "source": [
    "for score in gpt2_unqover_config_10:\n",
    "    print(f\"{score.subtask_description}: fairness {score.score_dict['fairness']}\")"
   ]
  },
  {
   "cell_type": "code",
   "execution_count": null,
   "id": "2d7f8362",
   "metadata": {},
   "outputs": [],
   "source": []
  }
 ],
 "metadata": {
  "kernelspec": {
   "display_name": "Python 3 (ipykernel)",
   "language": "python",
   "name": "python3"
  },
  "language_info": {
   "codemirror_mode": {
    "name": "ipython",
    "version": 3
   },
   "file_extension": ".py",
   "mimetype": "text/x-python",
   "name": "python",
   "nbconvert_exporter": "python",
   "pygments_lexer": "ipython3",
   "version": "3.11.2"
  }
 },
 "nbformat": 4,
 "nbformat_minor": 5
}
