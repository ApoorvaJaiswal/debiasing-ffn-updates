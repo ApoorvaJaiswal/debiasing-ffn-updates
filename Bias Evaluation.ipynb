{
 "cells": [
  {
   "cell_type": "markdown",
   "id": "e606777b",
   "metadata": {},
   "source": [
    "### Notebook Description ###\n",
    "\n",
    "This notebook is for obtaining various bias baselines.  Below are lists of tests and models that we are concerned with:\n",
    "\n",
    "*Bias Tests:*\n",
    "Gender Sensitivity for English\n",
    "https://github.com/google/BIG-bench/tree/main/bigbench/benchmark_tasks/gender_sensitivity_english\n",
    "Predicting the next word given a context (compatible with decoder only LMs)\n",
    "\n",
    "Social Bias \n",
    "https://github.com/google/BIG-bench/tree/main/bigbench/benchmark_tasks/diverse_social_bias\n",
    "Predicting the next word given a context (compatible with decoder only LMs)\n",
    "\n",
    "*Note:*\n",
    "Please see docs/big-bench-installation-guide.md for installing BIG-Bench\n",
    "\n",
    "*Decoder-Only Models:*\n",
    "* GPT-2\n",
    "    * https://huggingface.co/gpt2-medium\n",
    "* OPT\n",
    "    * https://huggingface.co/docs/transformers/main/model_doc/opt\n",
    "* BLOOM\n",
    "    * https://huggingface.co/docs/transformers/model_doc/bloom\n",
    "    \n",
    "*Future*\n",
    "* Additional Bias Measurement Tasks? Examining other tasks like QA?\n",
    "* Other model family's like Encoder-only (BERT), Encoder-Decoder (T5)?"
   ]
  },
  {
   "cell_type": "code",
   "execution_count": 5,
   "id": "a6690a06",
   "metadata": {},
   "outputs": [],
   "source": [
    "from bias_evaluation.gender_sensitivity_english.task import gender_sensitivity_test_English"
   ]
  },
  {
   "cell_type": "code",
   "execution_count": 6,
   "id": "63378226",
   "metadata": {},
   "outputs": [],
   "source": [
    "task = gender_sensitivity_test_English()"
   ]
  },
  {
   "cell_type": "code",
   "execution_count": 7,
   "id": "38839e57",
   "metadata": {},
   "outputs": [],
   "source": [
    "from model_wrappers.gpt2_wrapper import GPT2Wrapper\n",
    "wrapper = GPT2Wrapper(model_name = \"gpt2-medium\", use_cuda = False)"
   ]
  },
  {
   "cell_type": "code",
   "execution_count": 8,
   "id": "5a539e92",
   "metadata": {},
   "outputs": [
    {
     "name": "stdout",
     "output_type": "stream",
     "text": [
      "running gender neutrality test...\n"
     ]
    },
    {
     "ename": "RuntimeError",
     "evalue": "expected scalar type Long but found Int",
     "output_type": "error",
     "traceback": [
      "\u001b[1;31m---------------------------------------------------------------------------\u001b[0m",
      "\u001b[1;31mRuntimeError\u001b[0m                              Traceback (most recent call last)",
      "Cell \u001b[1;32mIn[8], line 1\u001b[0m\n\u001b[1;32m----> 1\u001b[0m task\u001b[39m.\u001b[39;49mevaluate_model(wrapper)\n",
      "File \u001b[1;32mc:\\Users\\dyats\\workplace\\debiasing-ffn-updates\\bias_evaluation\\gender_sensitivity_english\\task.py:108\u001b[0m, in \u001b[0;36mgender_sensitivity_test_English.evaluate_model\u001b[1;34m(self, model, max_examples, random_seed)\u001b[0m\n\u001b[0;32m    101\u001b[0m \u001b[39mdef\u001b[39;00m \u001b[39mevaluate_model\u001b[39m(\u001b[39mself\u001b[39m, model, max_examples\u001b[39m=\u001b[39m\u001b[39mNone\u001b[39;00m, random_seed\u001b[39m=\u001b[39m\u001b[39mNone\u001b[39;00m):\n\u001b[0;32m    102\u001b[0m \u001b[39m    \u001b[39m\u001b[39m\"\"\"evaluate the model on\u001b[39;00m\n\u001b[0;32m    103\u001b[0m \u001b[39m    (1) the gender neutrality test,\u001b[39;00m\n\u001b[0;32m    104\u001b[0m \u001b[39m    (2) the gender identification test, and\u001b[39;00m\n\u001b[0;32m    105\u001b[0m \u001b[39m    (3) PTB test.\u001b[39;00m\n\u001b[0;32m    106\u001b[0m \u001b[39m    \"\"\"\u001b[39;00m\n\u001b[1;32m--> 108\u001b[0m     biases, stereotypes \u001b[39m=\u001b[39m \u001b[39mself\u001b[39;49m\u001b[39m.\u001b[39;49mgender_neutrality_test(model, max_examples, random_seed)\n\u001b[0;32m    109\u001b[0m     \u001b[39m# preds = self.gender_identification_test(model, max_examples, random_seed)\u001b[39;00m\n\u001b[0;32m    110\u001b[0m     \u001b[39m# ppl = self.PTB_test(model)\u001b[39;00m\n\u001b[0;32m    111\u001b[0m \n\u001b[0;32m    112\u001b[0m     \u001b[39m# self._log_neutrality(biases, stereotypes)\u001b[39;00m\n\u001b[0;32m    113\u001b[0m     \u001b[39m# self._log_identification(preds)\u001b[39;00m\n\u001b[0;32m    114\u001b[0m     \u001b[39m# self._log_PTB(ppl)\u001b[39;00m\n\u001b[0;32m    116\u001b[0m     \u001b[39mreturn\u001b[39;00m \u001b[39mself\u001b[39m\u001b[39m.\u001b[39mscore_data\n",
      "File \u001b[1;32mc:\\Users\\dyats\\workplace\\debiasing-ffn-updates\\bias_evaluation\\gender_sensitivity_english\\task.py:190\u001b[0m, in \u001b[0;36mgender_sensitivity_test_English.gender_neutrality_test\u001b[1;34m(self, model, max_examples, random_seed)\u001b[0m\n\u001b[0;32m    186\u001b[0m questions_batch \u001b[39m=\u001b[39m [\n\u001b[0;32m    187\u001b[0m     (\u001b[39m\"\u001b[39m\u001b[39m \u001b[39m\u001b[39m\"\u001b[39m\u001b[39m.\u001b[39mjoin([prompts[j], \u001b[39m\"\u001b[39m\u001b[39mis\u001b[39m\u001b[39m\"\u001b[39m]) \u001b[39m+\u001b[39m \u001b[39m\"\u001b[39m\u001b[39m \u001b[39m\u001b[39m\"\u001b[39m) \u001b[39mfor\u001b[39;00m j \u001b[39min\u001b[39;00m \u001b[39mrange\u001b[39m(j_start, j_end)\n\u001b[0;32m    188\u001b[0m ]\n\u001b[0;32m    189\u001b[0m options_batch \u001b[39m=\u001b[39m [options \u001b[39mfor\u001b[39;00m j \u001b[39min\u001b[39;00m \u001b[39mrange\u001b[39m(j_start, j_end)]\n\u001b[1;32m--> 190\u001b[0m log_probs \u001b[39m=\u001b[39m model\u001b[39m.\u001b[39;49mcond_log_prob(\n\u001b[0;32m    191\u001b[0m     inputs\u001b[39m=\u001b[39;49mquestions_batch,\n\u001b[0;32m    192\u001b[0m     targets\u001b[39m=\u001b[39;49moptions_batch,\n\u001b[0;32m    193\u001b[0m )\n\u001b[0;32m    195\u001b[0m \u001b[39mfor\u001b[39;00m j \u001b[39min\u001b[39;00m \u001b[39mrange\u001b[39m(j_start, j_end):\n\u001b[0;32m    196\u001b[0m     log_prob \u001b[39m=\u001b[39m log_probs[j \u001b[39m-\u001b[39m j_start]\n",
      "File \u001b[1;32mc:\\Users\\dyats\\workplace\\debiasing-ffn-updates\\model_wrappers\\gpt2_wrapper.py:430\u001b[0m, in \u001b[0;36mGPT2Wrapper.cond_log_prob\u001b[1;34m(self, inputs, targets, batch_size, absolute_normalization)\u001b[0m\n\u001b[0;32m    427\u001b[0m     batch_inputs \u001b[39m=\u001b[39m flat_inputs[idx : \u001b[39mmin\u001b[39m(idx \u001b[39m+\u001b[39m batch_size, num_examples)]\n\u001b[0;32m    428\u001b[0m     batch_choices \u001b[39m=\u001b[39m flat_choices[idx : \u001b[39mmin\u001b[39m(idx \u001b[39m+\u001b[39m batch_size, num_examples)]\n\u001b[1;32m--> 430\u001b[0m     batch_scores \u001b[39m=\u001b[39m \u001b[39mself\u001b[39;49m\u001b[39m.\u001b[39;49mscore(batch_inputs, batch_choices)\n\u001b[0;32m    431\u001b[0m     flat_scores \u001b[39m+\u001b[39m\u001b[39m=\u001b[39m batch_scores\n\u001b[0;32m    433\u001b[0m scores \u001b[39m=\u001b[39m [[] \u001b[39mfor\u001b[39;00m _ \u001b[39min\u001b[39;00m \u001b[39mrange\u001b[39m(\u001b[39mlen\u001b[39m(input_list))]\n",
      "File \u001b[1;32mc:\\Users\\dyats\\workplace\\debiasing-ffn-updates\\model_wrappers\\gpt2_wrapper.py:354\u001b[0m, in \u001b[0;36mGPT2Wrapper.score\u001b[1;34m(self, inputs, targets, mask_token_id)\u001b[0m\n\u001b[0;32m    350\u001b[0m attention_mask \u001b[39m=\u001b[39m torch\u001b[39m.\u001b[39mtensor(tokenized_ids[\u001b[39m\"\u001b[39m\u001b[39mattention_mask\u001b[39m\u001b[39m\"\u001b[39m])\n\u001b[0;32m    352\u001b[0m position_ids \u001b[39m=\u001b[39m torch\u001b[39m.\u001b[39mmaximum(torch\u001b[39m.\u001b[39mcumsum(torch\u001b[39m.\u001b[39mtensor(attention_mask), axis\u001b[39m=\u001b[39m\u001b[39m-\u001b[39m\u001b[39m1\u001b[39m) \u001b[39m-\u001b[39m \u001b[39m1\u001b[39m, torch\u001b[39m.\u001b[39mtensor(\u001b[39m0\u001b[39m))\n\u001b[1;32m--> 354\u001b[0m logits \u001b[39m=\u001b[39m \u001b[39mself\u001b[39;49m\u001b[39m.\u001b[39;49m_model(\n\u001b[0;32m    355\u001b[0m     inputs_and_targets_ids,\n\u001b[0;32m    356\u001b[0m     labels\u001b[39m=\u001b[39;49mtargets_ids,\n\u001b[0;32m    357\u001b[0m     attention_mask\u001b[39m=\u001b[39;49mattention_mask,\n\u001b[0;32m    358\u001b[0m     position_ids\u001b[39m=\u001b[39;49mposition_ids,\n\u001b[0;32m    359\u001b[0m )\u001b[39m.\u001b[39mlogits\n\u001b[0;32m    361\u001b[0m \u001b[39m# print(logits)\u001b[39;00m\n\u001b[0;32m    362\u001b[0m \u001b[39m# print(targets_ids)\u001b[39;00m\n\u001b[0;32m    364\u001b[0m \u001b[39mreturn\u001b[39;00m \u001b[39mself\u001b[39m\u001b[39m.\u001b[39mcompute_loss(targets_ids, logits)\n",
      "File \u001b[1;32mc:\\Users\\dyats\\workplace\\debiasing-ffn-updates\\.conda\\lib\\site-packages\\torch\\nn\\modules\\module.py:1501\u001b[0m, in \u001b[0;36mModule._call_impl\u001b[1;34m(self, *args, **kwargs)\u001b[0m\n\u001b[0;32m   1496\u001b[0m \u001b[39m# If we don't have any hooks, we want to skip the rest of the logic in\u001b[39;00m\n\u001b[0;32m   1497\u001b[0m \u001b[39m# this function, and just call forward.\u001b[39;00m\n\u001b[0;32m   1498\u001b[0m \u001b[39mif\u001b[39;00m \u001b[39mnot\u001b[39;00m (\u001b[39mself\u001b[39m\u001b[39m.\u001b[39m_backward_hooks \u001b[39mor\u001b[39;00m \u001b[39mself\u001b[39m\u001b[39m.\u001b[39m_backward_pre_hooks \u001b[39mor\u001b[39;00m \u001b[39mself\u001b[39m\u001b[39m.\u001b[39m_forward_hooks \u001b[39mor\u001b[39;00m \u001b[39mself\u001b[39m\u001b[39m.\u001b[39m_forward_pre_hooks\n\u001b[0;32m   1499\u001b[0m         \u001b[39mor\u001b[39;00m _global_backward_pre_hooks \u001b[39mor\u001b[39;00m _global_backward_hooks\n\u001b[0;32m   1500\u001b[0m         \u001b[39mor\u001b[39;00m _global_forward_hooks \u001b[39mor\u001b[39;00m _global_forward_pre_hooks):\n\u001b[1;32m-> 1501\u001b[0m     \u001b[39mreturn\u001b[39;00m forward_call(\u001b[39m*\u001b[39margs, \u001b[39m*\u001b[39m\u001b[39m*\u001b[39mkwargs)\n\u001b[0;32m   1502\u001b[0m \u001b[39m# Do not call functions when jit is used\u001b[39;00m\n\u001b[0;32m   1503\u001b[0m full_backward_hooks, non_full_backward_hooks \u001b[39m=\u001b[39m [], []\n",
      "File \u001b[1;32mc:\\Users\\dyats\\workplace\\debiasing-ffn-updates\\.conda\\lib\\site-packages\\transformers\\models\\gpt2\\modeling_gpt2.py:1108\u001b[0m, in \u001b[0;36mGPT2LMHeadModel.forward\u001b[1;34m(self, input_ids, past_key_values, attention_mask, token_type_ids, position_ids, head_mask, inputs_embeds, encoder_hidden_states, encoder_attention_mask, labels, use_cache, output_attentions, output_hidden_states, return_dict)\u001b[0m\n\u001b[0;32m   1106\u001b[0m     \u001b[39m# Flatten the tokens\u001b[39;00m\n\u001b[0;32m   1107\u001b[0m     loss_fct \u001b[39m=\u001b[39m CrossEntropyLoss()\n\u001b[1;32m-> 1108\u001b[0m     loss \u001b[39m=\u001b[39m loss_fct(shift_logits\u001b[39m.\u001b[39;49mview(\u001b[39m-\u001b[39;49m\u001b[39m1\u001b[39;49m, shift_logits\u001b[39m.\u001b[39;49msize(\u001b[39m-\u001b[39;49m\u001b[39m1\u001b[39;49m)), shift_labels\u001b[39m.\u001b[39;49mview(\u001b[39m-\u001b[39;49m\u001b[39m1\u001b[39;49m))\n\u001b[0;32m   1110\u001b[0m \u001b[39mif\u001b[39;00m \u001b[39mnot\u001b[39;00m return_dict:\n\u001b[0;32m   1111\u001b[0m     output \u001b[39m=\u001b[39m (lm_logits,) \u001b[39m+\u001b[39m transformer_outputs[\u001b[39m1\u001b[39m:]\n",
      "File \u001b[1;32mc:\\Users\\dyats\\workplace\\debiasing-ffn-updates\\.conda\\lib\\site-packages\\torch\\nn\\modules\\module.py:1501\u001b[0m, in \u001b[0;36mModule._call_impl\u001b[1;34m(self, *args, **kwargs)\u001b[0m\n\u001b[0;32m   1496\u001b[0m \u001b[39m# If we don't have any hooks, we want to skip the rest of the logic in\u001b[39;00m\n\u001b[0;32m   1497\u001b[0m \u001b[39m# this function, and just call forward.\u001b[39;00m\n\u001b[0;32m   1498\u001b[0m \u001b[39mif\u001b[39;00m \u001b[39mnot\u001b[39;00m (\u001b[39mself\u001b[39m\u001b[39m.\u001b[39m_backward_hooks \u001b[39mor\u001b[39;00m \u001b[39mself\u001b[39m\u001b[39m.\u001b[39m_backward_pre_hooks \u001b[39mor\u001b[39;00m \u001b[39mself\u001b[39m\u001b[39m.\u001b[39m_forward_hooks \u001b[39mor\u001b[39;00m \u001b[39mself\u001b[39m\u001b[39m.\u001b[39m_forward_pre_hooks\n\u001b[0;32m   1499\u001b[0m         \u001b[39mor\u001b[39;00m _global_backward_pre_hooks \u001b[39mor\u001b[39;00m _global_backward_hooks\n\u001b[0;32m   1500\u001b[0m         \u001b[39mor\u001b[39;00m _global_forward_hooks \u001b[39mor\u001b[39;00m _global_forward_pre_hooks):\n\u001b[1;32m-> 1501\u001b[0m     \u001b[39mreturn\u001b[39;00m forward_call(\u001b[39m*\u001b[39margs, \u001b[39m*\u001b[39m\u001b[39m*\u001b[39mkwargs)\n\u001b[0;32m   1502\u001b[0m \u001b[39m# Do not call functions when jit is used\u001b[39;00m\n\u001b[0;32m   1503\u001b[0m full_backward_hooks, non_full_backward_hooks \u001b[39m=\u001b[39m [], []\n",
      "File \u001b[1;32mc:\\Users\\dyats\\workplace\\debiasing-ffn-updates\\.conda\\lib\\site-packages\\torch\\nn\\modules\\loss.py:1174\u001b[0m, in \u001b[0;36mCrossEntropyLoss.forward\u001b[1;34m(self, input, target)\u001b[0m\n\u001b[0;32m   1173\u001b[0m \u001b[39mdef\u001b[39;00m \u001b[39mforward\u001b[39m(\u001b[39mself\u001b[39m, \u001b[39minput\u001b[39m: Tensor, target: Tensor) \u001b[39m-\u001b[39m\u001b[39m>\u001b[39m Tensor:\n\u001b[1;32m-> 1174\u001b[0m     \u001b[39mreturn\u001b[39;00m F\u001b[39m.\u001b[39;49mcross_entropy(\u001b[39minput\u001b[39;49m, target, weight\u001b[39m=\u001b[39;49m\u001b[39mself\u001b[39;49m\u001b[39m.\u001b[39;49mweight,\n\u001b[0;32m   1175\u001b[0m                            ignore_index\u001b[39m=\u001b[39;49m\u001b[39mself\u001b[39;49m\u001b[39m.\u001b[39;49mignore_index, reduction\u001b[39m=\u001b[39;49m\u001b[39mself\u001b[39;49m\u001b[39m.\u001b[39;49mreduction,\n\u001b[0;32m   1176\u001b[0m                            label_smoothing\u001b[39m=\u001b[39;49m\u001b[39mself\u001b[39;49m\u001b[39m.\u001b[39;49mlabel_smoothing)\n",
      "File \u001b[1;32mc:\\Users\\dyats\\workplace\\debiasing-ffn-updates\\.conda\\lib\\site-packages\\torch\\nn\\functional.py:3029\u001b[0m, in \u001b[0;36mcross_entropy\u001b[1;34m(input, target, weight, size_average, ignore_index, reduce, reduction, label_smoothing)\u001b[0m\n\u001b[0;32m   3027\u001b[0m \u001b[39mif\u001b[39;00m size_average \u001b[39mis\u001b[39;00m \u001b[39mnot\u001b[39;00m \u001b[39mNone\u001b[39;00m \u001b[39mor\u001b[39;00m reduce \u001b[39mis\u001b[39;00m \u001b[39mnot\u001b[39;00m \u001b[39mNone\u001b[39;00m:\n\u001b[0;32m   3028\u001b[0m     reduction \u001b[39m=\u001b[39m _Reduction\u001b[39m.\u001b[39mlegacy_get_string(size_average, reduce)\n\u001b[1;32m-> 3029\u001b[0m \u001b[39mreturn\u001b[39;00m torch\u001b[39m.\u001b[39;49m_C\u001b[39m.\u001b[39;49m_nn\u001b[39m.\u001b[39;49mcross_entropy_loss(\u001b[39minput\u001b[39;49m, target, weight, _Reduction\u001b[39m.\u001b[39;49mget_enum(reduction), ignore_index, label_smoothing)\n",
      "\u001b[1;31mRuntimeError\u001b[0m: expected scalar type Long but found Int"
     ]
    }
   ],
   "source": [
    "task.evaluate_model(wrapper)"
   ]
  },
  {
   "cell_type": "code",
   "execution_count": null,
   "id": "43086682",
   "metadata": {},
   "outputs": [],
   "source": []
  }
 ],
 "metadata": {
  "kernelspec": {
   "display_name": "Python 3 (ipykernel)",
   "language": "python",
   "name": "python3"
  },
  "language_info": {
   "codemirror_mode": {
    "name": "ipython",
    "version": 3
   },
   "file_extension": ".py",
   "mimetype": "text/x-python",
   "name": "python",
   "nbconvert_exporter": "python",
   "pygments_lexer": "ipython3",
   "version": "3.9.16"
  }
 },
 "nbformat": 4,
 "nbformat_minor": 5
}
