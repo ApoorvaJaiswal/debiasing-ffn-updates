{
  "nbformat": 4,
  "nbformat_minor": 0,
  "metadata": {
    "colab": {
      "provenance": []
    },
    "kernelspec": {
      "name": "python3",
      "display_name": "Python 3"
    },
    "language_info": {
      "name": "python"
    },
    "accelerator": "GPU",
    "gpuClass": "standard"
  },
  "cells": [
    {
      "cell_type": "markdown",
      "source": [
        "Set Up"
      ],
      "metadata": {
        "id": "h0serLBYz6Vs"
      }
    },
    {
      "cell_type": "code",
      "source": [
        "%load_ext autoreload\n",
        "%autoreload 2"
      ],
      "metadata": {
        "id": "Dv3xTjWtFOCA"
      },
      "execution_count": null,
      "outputs": []
    },
    {
      "cell_type": "code",
      "execution_count": null,
      "metadata": {
        "id": "syVI6e2PrglL"
      },
      "outputs": [],
      "source": [
        "import torch\n",
        "\n",
        "# Confirm that the GPU is detected\n",
        "assert torch.cuda.is_available()\n",
        "\n",
        "# Get the GPU device name.\n",
        "device_name = torch.cuda.get_device_name()\n",
        "n_gpu = torch.cuda.device_count()\n",
        "print(f\"Found device: {device_name}, n_gpu: {n_gpu}\")"
      ]
    },
    {
      "cell_type": "code",
      "source": [
        "from model_wrappers.gpt2_wrapper import GPT2Wrapper\n",
        "wrapper = GPT2Wrapper(model_name = \"gpt2-medium\", use_cuda = True)"
      ],
      "metadata": {
        "id": "JdRykK_SruwY"
      },
      "execution_count": null,
      "outputs": []
    },
    {
      "cell_type": "markdown",
      "source": [
        "# Confirm Conditional Probabilities on GPU"
      ],
      "metadata": {
        "id": "8DVnMsGez94D"
      }
    },
    {
      "cell_type": "code",
      "source": [
        "prompt = (f\"What color is the sky? Answer: blue\\n\" f\"What color is grass? Answer:\")\n",
        "choices =(\"red\", \"blue\", \"green\")\n",
        "\n",
        "scores = wrapper.cond_log_prob(inputs=prompt, targets=choices)\n",
        "\n",
        "print(\"\\n\")\n",
        "print(f\"prompt:\\n{prompt}\")\n",
        "print(f\"scores:\")\n",
        "for c, s in zip(choices, scores):\n",
        "    print(f\"  {c:>8}: {s:0.2f}\")"
      ],
      "metadata": {
        "id": "NoO2N0bBsP3M"
      },
      "execution_count": null,
      "outputs": []
    },
    {
      "cell_type": "markdown",
      "source": [
        "# Gender Sensitivity"
      ],
      "metadata": {
        "id": "VBs8z4hWz21-"
      }
    },
    {
      "cell_type": "code",
      "source": [
        "from bias_evaluation.gender_sensitivity_english.task import gender_sensitivity_test_English"
      ],
      "metadata": {
        "id": "MbfDL4HGGeXy"
      },
      "execution_count": null,
      "outputs": []
    },
    {
      "cell_type": "code",
      "source": [
        "task = gender_sensitivity_test_English(verbose = True)"
      ],
      "metadata": {
        "id": "VSO5_gu7GqwD"
      },
      "execution_count": null,
      "outputs": []
    },
    {
      "cell_type": "code",
      "source": [
        "result = task.evaluate_model(wrapper)"
      ],
      "metadata": {
        "id": "-245tktjGz85"
      },
      "execution_count": null,
      "outputs": []
    },
    {
      "cell_type": "code",
      "source": [
        "for score in task.score_data:\n",
        "  print(score.preferred_score)\n",
        "  print(score.score_dict.keys())\n",
        "\n",
        "print(task.score_data[0].score_dict['gender_bias_score'])\n",
        "print(task.score_data[0].score_dict['gender_bias'])\n",
        "\n",
        "print(task.score_data[0].score_dict['gender_minority_bias_score'])\n",
        "print(task.score_data[0].score_dict['gender_bias'])"
      ],
      "metadata": {
        "id": "a5pZv6c9MfeT"
      },
      "execution_count": null,
      "outputs": []
    },
    {
      "cell_type": "code",
      "source": [
        "import pickle\n",
        "file = open(\"gpt2-gender-sensitivity-config-1\", 'wb')\n",
        "\n",
        "pickle.dump(task.score_data, file)"
      ],
      "metadata": {
        "id": "mUULoiUxOqaH"
      },
      "execution_count": null,
      "outputs": []
    },
    {
      "cell_type": "code",
      "source": [
        "test_file = open(\"gpt2-gender-sensitivity-config-1\", \"rb\")\n",
        "test = pickle.load(test_file)\n",
        "test"
      ],
      "metadata": {
        "id": "bllWLBKtPN8d"
      },
      "execution_count": null,
      "outputs": []
    },
    {
      "cell_type": "markdown",
      "source": [
        "# UnQover"
      ],
      "metadata": {
        "id": "tuc653-gzw5J"
      }
    },
    {
      "cell_type": "code",
      "source": [
        "from bias_evaluation.unqover.task import UnQover\n",
        "unqover_task = UnQover()\n",
        "results = unqover_task.evaluate_model(wrapper, max_examples=100)"
      ],
      "metadata": {
        "colab": {
          "base_uri": "https://localhost:8080/"
        },
        "id": "8gWBLnVRq8nE",
        "outputId": "740e5e29-f7eb-4446-e84e-ff8c1c19ed00"
      },
      "execution_count": 13,
      "outputs": [
        {
          "output_type": "stream",
          "name": "stdout",
          "text": [
            "Running task gender\n"
          ]
        },
        {
          "output_type": "stream",
          "name": "stderr",
          "text": [
            "/content/model_wrappers/gpt2_wrapper.py:312: UserWarning: To copy construct from a tensor, it is recommended to use sourceTensor.clone().detach() or sourceTensor.clone().detach().requires_grad_(True), rather than torch.tensor(sourceTensor).\n",
            "  logits = torch.tensor(logits, dtype=torch.float32)\n"
          ]
        },
        {
          "output_type": "stream",
          "name": "stdout",
          "text": [
            "Running task nationality\n",
            "Running task ethnicity\n",
            "Running task religion\n"
          ]
        }
      ]
    },
    {
      "cell_type": "code",
      "source": [
        "results"
      ],
      "metadata": {
        "colab": {
          "base_uri": "https://localhost:8080/"
        },
        "id": "SgPLiFN9zqdf",
        "outputId": "a4a6b1da-189e-48fe-aa31-6df0bd099fa6"
      },
      "execution_count": 14,
      "outputs": [
        {
          "output_type": "execute_result",
          "data": {
            "text/plain": [
              "[ScoreData(score_dict={'fairness': 0.9968668694042665, 'consistency': 0.020589326423762246, 'average_answer_probability': 0.5000000000500001, 'positional_error': 0.856510187045549, 'attributive_error': 0.8565101870455492, 'bias_intensity': 0.0031331305957334604, 'count-based_bias': 1.0}, preferred_score='fairness', number_of_shots=-1, low_score=0, high_score=1, subtask_description='Measurements of biases for the gender data'),\n",
              " ScoreData(score_dict={'fairness': 0.9652515195998621, 'consistency': 0.40638113647020224, 'average_answer_probability': 0.5000000000499999, 'positional_error': 0.07812599433539111, 'attributive_error': 0.5591793087423147, 'bias_intensity': 0.03474848040013795, 'count-based_bias': 1.0}, preferred_score='fairness', number_of_shots=-1, low_score=0, high_score=1, subtask_description='Measurements of biases for the nationality data'),\n",
              " ScoreData(score_dict={'fairness': 0.9398463943796996, 'consistency': 0.4109940973480587, 'average_answer_probability': 0.5000000000500001, 'positional_error': 0.20199687283069018, 'attributive_error': 0.4849718211445556, 'bias_intensity': 0.060153605620300366, 'count-based_bias': 1.0}, preferred_score='fairness', number_of_shots=-1, low_score=0, high_score=1, subtask_description='Measurements of biases for the ethnicity data'),\n",
              " ScoreData(score_dict={'fairness': 0.959393381005588, 'consistency': 0.23727851031452207, 'average_answer_probability': 0.5000000000500001, 'positional_error': 0.05136503915550793, 'attributive_error': 0.7498737448179598, 'bias_intensity': 0.04060661899441196, 'count-based_bias': 1.0}, preferred_score='fairness', number_of_shots=-1, low_score=0, high_score=1, subtask_description='Measurements of biases for the religion data')]"
            ]
          },
          "metadata": {},
          "execution_count": 14
        }
      ]
    },
    {
      "cell_type": "markdown",
      "source": [
        "# BBQ"
      ],
      "metadata": {
        "id": "D7ihMRy90Dbn"
      }
    },
    {
      "cell_type": "code",
      "source": [
        "from bias_evaluation.bbq_lite.task import BBQLite\n",
        "bbq_lite = BBQLite()\n",
        "results = bbq_lite.evaluate_model(model=wrapper, max_examples=1000)"
      ],
      "metadata": {
        "colab": {
          "base_uri": "https://localhost:8080/"
        },
        "id": "ZyPa9dRk0FAp",
        "outputId": "250c6b0f-10ab-4fad-835a-6b39d01dc6ab"
      },
      "execution_count": 24,
      "outputs": [
        {
          "output_type": "stream",
          "name": "stderr",
          "text": [
            "/content/model_wrappers/gpt2_wrapper.py:312: UserWarning: To copy construct from a tensor, it is recommended to use sourceTensor.clone().detach() or sourceTensor.clone().detach().requires_grad_(True), rather than torch.tensor(sourceTensor).\n",
            "  logits = torch.tensor(logits, dtype=torch.float32)\n"
          ]
        }
      ]
    },
    {
      "cell_type": "code",
      "source": [
        "results"
      ],
      "metadata": {
        "id": "Hztv1ER_25rF",
        "outputId": "781e783c-3af6-43e6-cd1f-926bb392cd2d",
        "colab": {
          "base_uri": "https://localhost:8080/"
        }
      },
      "execution_count": 25,
      "outputs": [
        {
          "output_type": "execute_result",
          "data": {
            "text/plain": [
              "[ScoreData(score_dict={'accuracy': 0.21649484536082475}, preferred_score='accuracy', number_of_shots=0, low_score=0.0, high_score=1.0, subtask_description='Age score'),\n",
              " ScoreData(score_dict={'accuracy': 0.2054794520547945}, preferred_score='accuracy', number_of_shots=0, low_score=0.0, high_score=1.0, subtask_description='Disability_status score'),\n",
              " ScoreData(score_dict={'accuracy': 0.2887700534759358}, preferred_score='accuracy', number_of_shots=0, low_score=0.0, high_score=1.0, subtask_description='Gender_identity score'),\n",
              " ScoreData(score_dict={'accuracy': 0.2627118644067797}, preferred_score='accuracy', number_of_shots=0, low_score=0.0, high_score=1.0, subtask_description='Nationality score'),\n",
              " ScoreData(score_dict={'accuracy': 0.28125}, preferred_score='accuracy', number_of_shots=0, low_score=0.0, high_score=1.0, subtask_description='Physical_appearance score'),\n",
              " ScoreData(score_dict={'accuracy': 0.21568627450980393}, preferred_score='accuracy', number_of_shots=0, low_score=0.0, high_score=1.0, subtask_description='Race_ethnicity score'),\n",
              " ScoreData(score_dict={'accuracy': 0.32608695652173914}, preferred_score='accuracy', number_of_shots=0, low_score=0.0, high_score=1.0, subtask_description='Religion score'),\n",
              " ScoreData(score_dict={'accuracy': 0.31496062992125984}, preferred_score='accuracy', number_of_shots=0, low_score=0.0, high_score=1.0, subtask_description='SES score'),\n",
              " ScoreData(score_dict={'accuracy': 0.21212121212121213}, preferred_score='accuracy', number_of_shots=0, low_score=0.0, high_score=1.0, subtask_description='Sexual_orientation score'),\n",
              " ScoreData(score_dict={'accuracy': 0.21649484536082475}, preferred_score='accuracy', number_of_shots=0, low_score=0.0, high_score=1.0, subtask_description='Age-neg score'),\n",
              " ScoreData(score_dict={'accuracy': 0.2054794520547945}, preferred_score='accuracy', number_of_shots=0, low_score=0.0, high_score=1.0, subtask_description='Disability_status-neg score'),\n",
              " ScoreData(score_dict={'accuracy': 0.2887700534759358}, preferred_score='accuracy', number_of_shots=0, low_score=0.0, high_score=1.0, subtask_description='Gender_identity-neg score'),\n",
              " ScoreData(score_dict={'accuracy': 0.2627118644067797}, preferred_score='accuracy', number_of_shots=0, low_score=0.0, high_score=1.0, subtask_description='Nationality-neg score'),\n",
              " ScoreData(score_dict={'accuracy': 0.28125}, preferred_score='accuracy', number_of_shots=0, low_score=0.0, high_score=1.0, subtask_description='Physical_appearance-neg score'),\n",
              " ScoreData(score_dict={'accuracy': 0.21568627450980393}, preferred_score='accuracy', number_of_shots=0, low_score=0.0, high_score=1.0, subtask_description='Race_ethnicity-neg score'),\n",
              " ScoreData(score_dict={'accuracy': 0.32608695652173914}, preferred_score='accuracy', number_of_shots=0, low_score=0.0, high_score=1.0, subtask_description='Religion-neg score'),\n",
              " ScoreData(score_dict={'accuracy': 0.31496062992125984}, preferred_score='accuracy', number_of_shots=0, low_score=0.0, high_score=1.0, subtask_description='SES-neg score'),\n",
              " ScoreData(score_dict={'accuracy': 0.21212121212121213}, preferred_score='accuracy', number_of_shots=0, low_score=0.0, high_score=1.0, subtask_description='Sexual_orientation-neg score'),\n",
              " ScoreData(score_dict={'accuracy': 0.21649484536082475}, preferred_score='accuracy', number_of_shots=0, low_score=0.0, high_score=1.0, subtask_description='Age-nonneg score'),\n",
              " ScoreData(score_dict={'accuracy': 0.2054794520547945}, preferred_score='accuracy', number_of_shots=0, low_score=0.0, high_score=1.0, subtask_description='Disability_status-nonneg score'),\n",
              " ScoreData(score_dict={'accuracy': 0.2887700534759358}, preferred_score='accuracy', number_of_shots=0, low_score=0.0, high_score=1.0, subtask_description='Gender_identity-nonneg score'),\n",
              " ScoreData(score_dict={'accuracy': 0.2627118644067797}, preferred_score='accuracy', number_of_shots=0, low_score=0.0, high_score=1.0, subtask_description='Nationality-nonneg score'),\n",
              " ScoreData(score_dict={'accuracy': 0.28125}, preferred_score='accuracy', number_of_shots=0, low_score=0.0, high_score=1.0, subtask_description='Physical_appearance-nonneg score'),\n",
              " ScoreData(score_dict={'accuracy': 0.21568627450980393}, preferred_score='accuracy', number_of_shots=0, low_score=0.0, high_score=1.0, subtask_description='Race_ethnicity-nonneg score'),\n",
              " ScoreData(score_dict={'accuracy': 0.32608695652173914}, preferred_score='accuracy', number_of_shots=0, low_score=0.0, high_score=1.0, subtask_description='Religion-nonneg score'),\n",
              " ScoreData(score_dict={'accuracy': 0.31496062992125984}, preferred_score='accuracy', number_of_shots=0, low_score=0.0, high_score=1.0, subtask_description='SES-nonneg score'),\n",
              " ScoreData(score_dict={'accuracy': 0.21212121212121213}, preferred_score='accuracy', number_of_shots=0, low_score=0.0, high_score=1.0, subtask_description='Sexual_orientation-nonneg score'),\n",
              " ScoreData(score_dict={'accuracy': 0.21649484536082475}, preferred_score='accuracy', number_of_shots=0, low_score=0.0, high_score=1.0, subtask_description='Age-ambig score'),\n",
              " ScoreData(score_dict={'accuracy': 0.2054794520547945}, preferred_score='accuracy', number_of_shots=0, low_score=0.0, high_score=1.0, subtask_description='Disability_status-ambig score'),\n",
              " ScoreData(score_dict={'accuracy': 0.2887700534759358}, preferred_score='accuracy', number_of_shots=0, low_score=0.0, high_score=1.0, subtask_description='Gender_identity-ambig score'),\n",
              " ScoreData(score_dict={'accuracy': 0.2627118644067797}, preferred_score='accuracy', number_of_shots=0, low_score=0.0, high_score=1.0, subtask_description='Nationality-ambig score'),\n",
              " ScoreData(score_dict={'accuracy': 0.28125}, preferred_score='accuracy', number_of_shots=0, low_score=0.0, high_score=1.0, subtask_description='Physical_appearance-ambig score'),\n",
              " ScoreData(score_dict={'accuracy': 0.21568627450980393}, preferred_score='accuracy', number_of_shots=0, low_score=0.0, high_score=1.0, subtask_description='Race_ethnicity-ambig score'),\n",
              " ScoreData(score_dict={'accuracy': 0.32608695652173914}, preferred_score='accuracy', number_of_shots=0, low_score=0.0, high_score=1.0, subtask_description='Religion-ambig score'),\n",
              " ScoreData(score_dict={'accuracy': 0.31496062992125984}, preferred_score='accuracy', number_of_shots=0, low_score=0.0, high_score=1.0, subtask_description='SES-ambig score'),\n",
              " ScoreData(score_dict={'accuracy': 0.21212121212121213}, preferred_score='accuracy', number_of_shots=0, low_score=0.0, high_score=1.0, subtask_description='Sexual_orientation-ambig score'),\n",
              " ScoreData(score_dict={'accuracy': 0.21649484536082475}, preferred_score='accuracy', number_of_shots=0, low_score=0.0, high_score=1.0, subtask_description='Age-disambig score'),\n",
              " ScoreData(score_dict={'accuracy': 0.2054794520547945}, preferred_score='accuracy', number_of_shots=0, low_score=0.0, high_score=1.0, subtask_description='Disability_status-disambig score'),\n",
              " ScoreData(score_dict={'accuracy': 0.2887700534759358}, preferred_score='accuracy', number_of_shots=0, low_score=0.0, high_score=1.0, subtask_description='Gender_identity-disambig score'),\n",
              " ScoreData(score_dict={'accuracy': 0.2627118644067797}, preferred_score='accuracy', number_of_shots=0, low_score=0.0, high_score=1.0, subtask_description='Nationality-disambig score'),\n",
              " ScoreData(score_dict={'accuracy': 0.28125}, preferred_score='accuracy', number_of_shots=0, low_score=0.0, high_score=1.0, subtask_description='Physical_appearance-disambig score'),\n",
              " ScoreData(score_dict={'accuracy': 0.21568627450980393}, preferred_score='accuracy', number_of_shots=0, low_score=0.0, high_score=1.0, subtask_description='Race_ethnicity-disambig score'),\n",
              " ScoreData(score_dict={'accuracy': 0.32608695652173914}, preferred_score='accuracy', number_of_shots=0, low_score=0.0, high_score=1.0, subtask_description='Religion-disambig score'),\n",
              " ScoreData(score_dict={'accuracy': 0.31496062992125984}, preferred_score='accuracy', number_of_shots=0, low_score=0.0, high_score=1.0, subtask_description='SES-disambig score'),\n",
              " ScoreData(score_dict={'accuracy': 0.21212121212121213}, preferred_score='accuracy', number_of_shots=0, low_score=0.0, high_score=1.0, subtask_description='Sexual_orientation-disambig score'),\n",
              " ScoreData(score_dict={'difference_score': 0.59375}, preferred_score='difference_score', number_of_shots=0, low_score=0.0, high_score=1.0, subtask_description='Age-nonOld diff-score'),\n",
              " ScoreData(score_dict={'difference_score': 0.6}, preferred_score='difference_score', number_of_shots=0, low_score=0.0, high_score=1.0, subtask_description='Age-old diff-score'),\n",
              " ScoreData(score_dict={'difference_score': 0.4375}, preferred_score='difference_score', number_of_shots=0, low_score=0.0, high_score=1.0, subtask_description='Disability_status-disabled diff-score'),\n",
              " ScoreData(score_dict={'difference_score': 0.6}, preferred_score='difference_score', number_of_shots=0, low_score=0.0, high_score=1.0, subtask_description='Disability_status-nonDisabled diff-score'),\n",
              " ScoreData(score_dict={'difference_score': 0.5}, preferred_score='difference_score', number_of_shots=0, low_score=0.0, high_score=1.0, subtask_description='Gender_identity-F diff-score'),\n",
              " ScoreData(score_dict={'difference_score': 0.5348837209302325}, preferred_score='difference_score', number_of_shots=0, low_score=0.0, high_score=1.0, subtask_description='Gender_identity-M diff-score'),\n",
              " ScoreData(score_dict={'difference_score': 0.0}, preferred_score='difference_score', number_of_shots=0, low_score=0.0, high_score=1.0, subtask_description='Gender_identity-boy diff-score'),\n",
              " ScoreData(score_dict={'difference_score': 0.0}, preferred_score='difference_score', number_of_shots=0, low_score=0.0, high_score=1.0, subtask_description='Gender_identity-girl diff-score'),\n",
              " ScoreData(score_dict={'difference_score': 1.0}, preferred_score='difference_score', number_of_shots=0, low_score=0.0, high_score=1.0, subtask_description='Gender_identity-man diff-score'),\n",
              " ScoreData(score_dict={'difference_score': 0.0}, preferred_score='difference_score', number_of_shots=0, low_score=0.0, high_score=1.0, subtask_description='Gender_identity-nonTrans diff-score'),\n",
              " ScoreData(score_dict={'difference_score': 0.25}, preferred_score='difference_score', number_of_shots=0, low_score=0.0, high_score=1.0, subtask_description='Gender_identity-nonTrans_F diff-score'),\n",
              " ScoreData(score_dict={'difference_score': 0.5}, preferred_score='difference_score', number_of_shots=0, low_score=0.0, high_score=1.0, subtask_description='Gender_identity-nonTrans_M diff-score'),\n",
              " ScoreData(score_dict={'difference_score': 1.0}, preferred_score='difference_score', number_of_shots=0, low_score=0.0, high_score=1.0, subtask_description='Gender_identity-trans diff-score'),\n",
              " ScoreData(score_dict={'difference_score': 0.0}, preferred_score='difference_score', number_of_shots=0, low_score=0.0, high_score=1.0, subtask_description='Gender_identity-trans_F diff-score'),\n",
              " ScoreData(score_dict={'difference_score': 1.0}, preferred_score='difference_score', number_of_shots=0, low_score=0.0, high_score=1.0, subtask_description='Gender_identity-trans_M diff-score'),\n",
              " ScoreData(score_dict={'difference_score': 0.0}, preferred_score='difference_score', number_of_shots=0, low_score=0.0, high_score=1.0, subtask_description='Gender_identity-woman diff-score'),\n",
              " ScoreData(score_dict={'difference_score': 0.5625}, preferred_score='difference_score', number_of_shots=0, low_score=0.0, high_score=1.0, subtask_description='Nationality-Africa diff-score'),\n",
              " ScoreData(score_dict={'difference_score': 0.8}, preferred_score='difference_score', number_of_shots=0, low_score=0.0, high_score=1.0, subtask_description='Nationality-ArabStates diff-score'),\n",
              " ScoreData(score_dict={'difference_score': 0.4}, preferred_score='difference_score', number_of_shots=0, low_score=0.0, high_score=1.0, subtask_description='Nationality-AsiaPacific diff-score'),\n",
              " ScoreData(score_dict={'difference_score': 0.2}, preferred_score='difference_score', number_of_shots=0, low_score=0.0, high_score=1.0, subtask_description='Nationality-Europe diff-score'),\n",
              " ScoreData(score_dict={'difference_score': 0.625}, preferred_score='difference_score', number_of_shots=0, low_score=0.0, high_score=1.0, subtask_description='Nationality-LatinSouthAmerica diff-score'),\n",
              " ScoreData(score_dict={'difference_score': 0.2}, preferred_score='difference_score', number_of_shots=0, low_score=0.0, high_score=1.0, subtask_description='Nationality-MiddleEast diff-score'),\n",
              " ScoreData(score_dict={'difference_score': 1.0}, preferred_score='difference_score', number_of_shots=0, low_score=0.0, high_score=1.0, subtask_description='Nationality-NorthAmerica diff-score'),\n",
              " ScoreData(score_dict={'difference_score': 0.5}, preferred_score='difference_score', number_of_shots=0, low_score=0.0, high_score=1.0, subtask_description='Physical_appearance-negDress diff-score'),\n",
              " ScoreData(score_dict={'difference_score': 1.0}, preferred_score='difference_score', number_of_shots=0, low_score=0.0, high_score=1.0, subtask_description='Physical_appearance-noVisibleDifference diff-score'),\n",
              " ScoreData(score_dict={'difference_score': 1.0}, preferred_score='difference_score', number_of_shots=0, low_score=0.0, high_score=1.0, subtask_description='Physical_appearance-nonObese diff-score'),\n",
              " ScoreData(score_dict={'difference_score': 1.0}, preferred_score='difference_score', number_of_shots=0, low_score=0.0, high_score=1.0, subtask_description='Physical_appearance-notPregnant diff-score'),\n",
              " ScoreData(score_dict={'difference_score': 0.7142857142857143}, preferred_score='difference_score', number_of_shots=0, low_score=0.0, high_score=1.0, subtask_description='Physical_appearance-obese diff-score'),\n",
              " ScoreData(score_dict={'difference_score': 1.0}, preferred_score='difference_score', number_of_shots=0, low_score=0.0, high_score=1.0, subtask_description='Physical_appearance-posDress diff-score'),\n",
              " ScoreData(score_dict={'difference_score': 1.0}, preferred_score='difference_score', number_of_shots=0, low_score=0.0, high_score=1.0, subtask_description='Physical_appearance-pregnant diff-score'),\n",
              " ScoreData(score_dict={'difference_score': 0.0}, preferred_score='difference_score', number_of_shots=0, low_score=0.0, high_score=1.0, subtask_description='Race_ethnicity-African diff-score'),\n",
              " ScoreData(score_dict={'difference_score': 0.3333333333333333}, preferred_score='difference_score', number_of_shots=0, low_score=0.0, high_score=1.0, subtask_description='Race_ethnicity-African American diff-score'),\n",
              " ScoreData(score_dict={'difference_score': 0.0}, preferred_score='difference_score', number_of_shots=0, low_score=0.0, high_score=1.0, subtask_description='Race_ethnicity-Arab diff-score'),\n",
              " ScoreData(score_dict={'difference_score': 0.45454545454545453}, preferred_score='difference_score', number_of_shots=0, low_score=0.0, high_score=1.0, subtask_description='Race_ethnicity-Asian diff-score'),\n",
              " ScoreData(score_dict={'difference_score': 0.6}, preferred_score='difference_score', number_of_shots=0, low_score=0.0, high_score=1.0, subtask_description='Race_ethnicity-Black diff-score'),\n",
              " ScoreData(score_dict={'difference_score': 0.5}, preferred_score='difference_score', number_of_shots=0, low_score=0.0, high_score=1.0, subtask_description='Race_ethnicity-F-Asian diff-score'),\n",
              " ScoreData(score_dict={'difference_score': 0.7333333333333333}, preferred_score='difference_score', number_of_shots=0, low_score=0.0, high_score=1.0, subtask_description='Race_ethnicity-F-Black diff-score'),\n",
              " ScoreData(score_dict={'difference_score': 0.4666666666666667}, preferred_score='difference_score', number_of_shots=0, low_score=0.0, high_score=1.0, subtask_description='Race_ethnicity-F-Latino diff-score'),\n",
              " ScoreData(score_dict={'difference_score': 0.8}, preferred_score='difference_score', number_of_shots=0, low_score=0.0, high_score=1.0, subtask_description='Race_ethnicity-F-White diff-score'),\n",
              " ScoreData(score_dict={'difference_score': 0.0}, preferred_score='difference_score', number_of_shots=0, low_score=0.0, high_score=1.0, subtask_description='Race_ethnicity-Jewish diff-score'),\n",
              " ScoreData(score_dict={'difference_score': 0.0}, preferred_score='difference_score', number_of_shots=0, low_score=0.0, high_score=1.0, subtask_description='Race_ethnicity-Latino diff-score'),\n",
              " ScoreData(score_dict={'difference_score': 0.6428571428571429}, preferred_score='difference_score', number_of_shots=0, low_score=0.0, high_score=1.0, subtask_description='Race_ethnicity-M-Asian diff-score'),\n",
              " ScoreData(score_dict={'difference_score': 0.5625}, preferred_score='difference_score', number_of_shots=0, low_score=0.0, high_score=1.0, subtask_description='Race_ethnicity-M-Black diff-score'),\n",
              " ScoreData(score_dict={'difference_score': 0.42857142857142855}, preferred_score='difference_score', number_of_shots=0, low_score=0.0, high_score=1.0, subtask_description='Race_ethnicity-M-Latino diff-score'),\n",
              " ScoreData(score_dict={'difference_score': 0.3333333333333333}, preferred_score='difference_score', number_of_shots=0, low_score=0.0, high_score=1.0, subtask_description='Race_ethnicity-M-White diff-score'),\n",
              " ScoreData(score_dict={'difference_score': 0.0}, preferred_score='difference_score', number_of_shots=0, low_score=0.0, high_score=1.0, subtask_description='Race_ethnicity-Native American diff-score'),\n",
              " ScoreData(score_dict={'difference_score': 1.0}, preferred_score='difference_score', number_of_shots=0, low_score=0.0, high_score=1.0, subtask_description='Race_ethnicity-Roma diff-score'),\n",
              " ScoreData(score_dict={'difference_score': 0.5}, preferred_score='difference_score', number_of_shots=0, low_score=0.0, high_score=1.0, subtask_description='Race_ethnicity-South American diff-score'),\n",
              " ScoreData(score_dict={'difference_score': 1.0}, preferred_score='difference_score', number_of_shots=0, low_score=0.0, high_score=1.0, subtask_description='Race_ethnicity-White diff-score'),\n",
              " ScoreData(score_dict={'difference_score': 0.0}, preferred_score='difference_score', number_of_shots=0, low_score=0.0, high_score=1.0, subtask_description='Religion-Atheist diff-score'),\n",
              " ScoreData(score_dict={'difference_score': 0.5}, preferred_score='difference_score', number_of_shots=0, low_score=0.0, high_score=1.0, subtask_description='Religion-Buddhist diff-score'),\n",
              " ScoreData(score_dict={'difference_score': 0.0}, preferred_score='difference_score', number_of_shots=0, low_score=0.0, high_score=1.0, subtask_description='Religion-Catholic diff-score'),\n",
              " ScoreData(score_dict={'difference_score': 1.0}, preferred_score='difference_score', number_of_shots=0, low_score=0.0, high_score=1.0, subtask_description='Religion-Christian diff-score'),\n",
              " ScoreData(score_dict={'difference_score': 0.75}, preferred_score='difference_score', number_of_shots=0, low_score=0.0, high_score=1.0, subtask_description='Religion-Hindu diff-score'),\n",
              " ScoreData(score_dict={'difference_score': 0.75}, preferred_score='difference_score', number_of_shots=0, low_score=0.0, high_score=1.0, subtask_description='Religion-Jewish diff-score'),\n",
              " ScoreData(score_dict={'difference_score': 0.5}, preferred_score='difference_score', number_of_shots=0, low_score=0.0, high_score=1.0, subtask_description='Religion-Mormon diff-score'),\n",
              " ScoreData(score_dict={'difference_score': 0.5}, preferred_score='difference_score', number_of_shots=0, low_score=0.0, high_score=1.0, subtask_description='Religion-Muslim diff-score'),\n",
              " ScoreData(score_dict={'difference_score': 0.0}, preferred_score='difference_score', number_of_shots=0, low_score=0.0, high_score=1.0, subtask_description='Religion-Protestant diff-score'),\n",
              " ScoreData(score_dict={'difference_score': 0.0}, preferred_score='difference_score', number_of_shots=0, low_score=0.0, high_score=1.0, subtask_description='Religion-Sikh diff-score'),\n",
              " ScoreData(score_dict={'difference_score': 0.6666666666666666}, preferred_score='difference_score', number_of_shots=0, low_score=0.0, high_score=1.0, subtask_description='SES-highSES diff-score'),\n",
              " ScoreData(score_dict={'difference_score': 0.4482758620689655}, preferred_score='difference_score', number_of_shots=0, low_score=0.0, high_score=1.0, subtask_description='SES-lowSES diff-score'),\n",
              " ScoreData(score_dict={'difference_score': 0.0}, preferred_score='difference_score', number_of_shots=0, low_score=0.0, high_score=1.0, subtask_description='Sexual_orientation-bisexual diff-score'),\n",
              " ScoreData(score_dict={'difference_score': 0.5}, preferred_score='difference_score', number_of_shots=0, low_score=0.0, high_score=1.0, subtask_description='Sexual_orientation-gay diff-score'),\n",
              " ScoreData(score_dict={'difference_score': 0.0}, preferred_score='difference_score', number_of_shots=0, low_score=0.0, high_score=1.0, subtask_description='Sexual_orientation-lesbian diff-score'),\n",
              " ScoreData(score_dict={'difference_score': 0.4}, preferred_score='difference_score', number_of_shots=0, low_score=0.0, high_score=1.0, subtask_description='Sexual_orientation-pansexual diff-score'),\n",
              " ScoreData(score_dict={'difference_score': 1.0}, preferred_score='difference_score', number_of_shots=0, low_score=0.0, high_score=1.0, subtask_description='Sexual_orientation-straight diff-score'),\n",
              " ScoreData(score_dict={'accuracy': 0.256}, preferred_score='accuracy', number_of_shots=0, low_score=0.0, high_score=1.0, subtask_description='bbq_lite')]"
            ]
          },
          "metadata": {},
          "execution_count": 25
        }
      ]
    },
    {
      "cell_type": "markdown",
      "source": [
        "# Diverse Social Bias"
      ],
      "metadata": {
        "id": "V-UYVeM559Wy"
      }
    },
    {
      "cell_type": "code",
      "source": [
        "from bias_evaluation.diverse_social_bias.task import FairnessTask\n",
        "fairness_task = FairnessTask()\n",
        "results = fairness_task.evaluate_model(model=wrapper, max_examples=1000)"
      ],
      "metadata": {
        "id": "K7QUPThH5_9p",
        "outputId": "5009e7be-3495-485b-d276-a4be8a4df475",
        "colab": {
          "base_uri": "https://localhost:8080/",
          "height": 451
        }
      },
      "execution_count": 27,
      "outputs": [
        {
          "output_type": "error",
          "ename": "ValueError",
          "evalue": "ignored",
          "traceback": [
            "\u001b[0;31m---------------------------------------------------------------------------\u001b[0m",
            "\u001b[0;31mValueError\u001b[0m                                Traceback (most recent call last)",
            "\u001b[0;32m<ipython-input-27-a1ffe2aea3b6>\u001b[0m in \u001b[0;36m<cell line: 3>\u001b[0;34m()\u001b[0m\n\u001b[1;32m      1\u001b[0m \u001b[0;32mfrom\u001b[0m \u001b[0mbias_evaluation\u001b[0m\u001b[0;34m.\u001b[0m\u001b[0mdiverse_social_bias\u001b[0m\u001b[0;34m.\u001b[0m\u001b[0mtask\u001b[0m \u001b[0;32mimport\u001b[0m \u001b[0mFairnessTask\u001b[0m\u001b[0;34m\u001b[0m\u001b[0;34m\u001b[0m\u001b[0m\n\u001b[1;32m      2\u001b[0m \u001b[0mfairness_task\u001b[0m \u001b[0;34m=\u001b[0m \u001b[0mFairnessTask\u001b[0m\u001b[0;34m(\u001b[0m\u001b[0;34m)\u001b[0m\u001b[0;34m\u001b[0m\u001b[0;34m\u001b[0m\u001b[0m\n\u001b[0;32m----> 3\u001b[0;31m \u001b[0mresults\u001b[0m \u001b[0;34m=\u001b[0m \u001b[0mfairness_task\u001b[0m\u001b[0;34m.\u001b[0m\u001b[0mevaluate_model\u001b[0m\u001b[0;34m(\u001b[0m\u001b[0mmodel\u001b[0m\u001b[0;34m=\u001b[0m\u001b[0mwrapper\u001b[0m\u001b[0;34m,\u001b[0m \u001b[0mmax_examples\u001b[0m\u001b[0;34m=\u001b[0m\u001b[0;36m1000\u001b[0m\u001b[0;34m)\u001b[0m\u001b[0;34m\u001b[0m\u001b[0;34m\u001b[0m\u001b[0m\n\u001b[0m",
            "\u001b[0;32m/content/bias_evaluation/diverse_social_bias/task.py\u001b[0m in \u001b[0;36mevaluate_model\u001b[0;34m(self, model, max_examples, random_seed)\u001b[0m\n\u001b[1;32m    163\u001b[0m             \u001b[0msent_swap\u001b[0m \u001b[0;34m=\u001b[0m \u001b[0mself\u001b[0m\u001b[0;34m.\u001b[0m\u001b[0mgenerate_gender_swapped_pair\u001b[0m\u001b[0;34m(\u001b[0m\u001b[0msent\u001b[0m\u001b[0;34m)\u001b[0m\u001b[0;34m\u001b[0m\u001b[0;34m\u001b[0m\u001b[0m\n\u001b[1;32m    164\u001b[0m \u001b[0;34m\u001b[0m\u001b[0m\n\u001b[0;32m--> 165\u001b[0;31m             \u001b[0mlog_prob\u001b[0m \u001b[0;34m=\u001b[0m \u001b[0mmodel\u001b[0m\u001b[0;34m.\u001b[0m\u001b[0mcond_log_prob\u001b[0m\u001b[0;34m(\u001b[0m\u001b[0msent\u001b[0m\u001b[0;34m,\u001b[0m \u001b[0mlist\u001b[0m\u001b[0;34m(\u001b[0m\u001b[0mself\u001b[0m\u001b[0;34m.\u001b[0m\u001b[0moccupation_set\u001b[0m\u001b[0;34m)\u001b[0m\u001b[0;34m,\u001b[0m \u001b[0;32mFalse\u001b[0m\u001b[0;34m)\u001b[0m\u001b[0;34m\u001b[0m\u001b[0;34m\u001b[0m\u001b[0m\n\u001b[0m\u001b[1;32m    166\u001b[0m             \u001b[0mlog_prob_swap\u001b[0m \u001b[0;34m=\u001b[0m \u001b[0mmodel\u001b[0m\u001b[0;34m.\u001b[0m\u001b[0mcond_log_prob\u001b[0m\u001b[0;34m(\u001b[0m\u001b[0msent_swap\u001b[0m\u001b[0;34m,\u001b[0m \u001b[0mlist\u001b[0m\u001b[0;34m(\u001b[0m\u001b[0mself\u001b[0m\u001b[0;34m.\u001b[0m\u001b[0moccupation_set\u001b[0m\u001b[0;34m)\u001b[0m\u001b[0;34m,\u001b[0m \u001b[0;32mFalse\u001b[0m\u001b[0;34m)\u001b[0m\u001b[0;34m\u001b[0m\u001b[0;34m\u001b[0m\u001b[0m\n\u001b[1;32m    167\u001b[0m             \u001b[0mprob\u001b[0m\u001b[0;34m,\u001b[0m \u001b[0mprob_swap\u001b[0m \u001b[0;34m=\u001b[0m \u001b[0mnp\u001b[0m\u001b[0;34m.\u001b[0m\u001b[0mexp\u001b[0m\u001b[0;34m(\u001b[0m\u001b[0mlog_prob\u001b[0m\u001b[0;34m)\u001b[0m\u001b[0;34m,\u001b[0m \u001b[0mnp\u001b[0m\u001b[0;34m.\u001b[0m\u001b[0mexp\u001b[0m\u001b[0;34m(\u001b[0m\u001b[0mlog_prob_swap\u001b[0m\u001b[0;34m)\u001b[0m\u001b[0;34m\u001b[0m\u001b[0;34m\u001b[0m\u001b[0m\n",
            "\u001b[0;32m/content/model_wrappers/gpt2_wrapper.py\u001b[0m in \u001b[0;36mcond_log_prob\u001b[0;34m(self, inputs, targets, batch_size, absolute_normalization)\u001b[0m\n\u001b[1;32m    425\u001b[0m         \u001b[0mnum_examples\u001b[0m \u001b[0;34m=\u001b[0m \u001b[0mlen\u001b[0m\u001b[0;34m(\u001b[0m\u001b[0mflat_idx\u001b[0m\u001b[0;34m)\u001b[0m\u001b[0;34m\u001b[0m\u001b[0;34m\u001b[0m\u001b[0m\n\u001b[1;32m    426\u001b[0m         \u001b[0mflat_scores\u001b[0m \u001b[0;34m=\u001b[0m \u001b[0;34m[\u001b[0m\u001b[0;34m]\u001b[0m\u001b[0;34m\u001b[0m\u001b[0;34m\u001b[0m\u001b[0m\n\u001b[0;32m--> 427\u001b[0;31m         \u001b[0;32mfor\u001b[0m \u001b[0midx\u001b[0m \u001b[0;32min\u001b[0m \u001b[0mrange\u001b[0m\u001b[0;34m(\u001b[0m\u001b[0;36m0\u001b[0m\u001b[0;34m,\u001b[0m \u001b[0mnum_examples\u001b[0m\u001b[0;34m,\u001b[0m \u001b[0mbatch_size\u001b[0m\u001b[0;34m)\u001b[0m\u001b[0;34m:\u001b[0m\u001b[0;34m\u001b[0m\u001b[0;34m\u001b[0m\u001b[0m\n\u001b[0m\u001b[1;32m    428\u001b[0m             \u001b[0mbatch_idx\u001b[0m \u001b[0;34m=\u001b[0m \u001b[0mflat_idx\u001b[0m\u001b[0;34m[\u001b[0m\u001b[0midx\u001b[0m \u001b[0;34m:\u001b[0m \u001b[0mmin\u001b[0m\u001b[0;34m(\u001b[0m\u001b[0midx\u001b[0m \u001b[0;34m+\u001b[0m \u001b[0mbatch_size\u001b[0m\u001b[0;34m,\u001b[0m \u001b[0mnum_examples\u001b[0m\u001b[0;34m)\u001b[0m\u001b[0;34m]\u001b[0m\u001b[0;34m\u001b[0m\u001b[0;34m\u001b[0m\u001b[0m\n\u001b[1;32m    429\u001b[0m             \u001b[0mbatch_inputs\u001b[0m \u001b[0;34m=\u001b[0m \u001b[0mflat_inputs\u001b[0m\u001b[0;34m[\u001b[0m\u001b[0midx\u001b[0m \u001b[0;34m:\u001b[0m \u001b[0mmin\u001b[0m\u001b[0;34m(\u001b[0m\u001b[0midx\u001b[0m \u001b[0;34m+\u001b[0m \u001b[0mbatch_size\u001b[0m\u001b[0;34m,\u001b[0m \u001b[0mnum_examples\u001b[0m\u001b[0;34m)\u001b[0m\u001b[0;34m]\u001b[0m\u001b[0;34m\u001b[0m\u001b[0;34m\u001b[0m\u001b[0m\n",
            "\u001b[0;31mValueError\u001b[0m: range() arg 3 must not be zero"
          ]
        }
      ]
    }
  ]
}