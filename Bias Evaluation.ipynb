{
 "cells": [
  {
   "cell_type": "markdown",
   "id": "e606777b",
   "metadata": {},
   "source": [
    "### Notebook Description ###\n",
    "\n",
    "This notebook is for obtaining various bias baselines.  Below are lists of tests and models that we are concerned with:\n",
    "\n",
    "*Bias Tests:*\n",
    "Social Bias \n",
    "https://github.com/google/BIG-bench/tree/main/bigbench/benchmark_tasks/diverse_social_bias\n",
    "Predicting the next word given a context (compatible with decoder only LMs)\n",
    "\n",
    "Gender Sensitivity for English\n",
    "https://github.com/google/BIG-bench/tree/main/bigbench/benchmark_tasks/gender_sensitivity_english\n",
    "Predicting the next word given a context (compatible with decoder only LMs)\n",
    "\n",
    "\n",
    "*Decoder-Only Models:*\n",
    "* GPT-2\n",
    "    * https://huggingface.co/gpt2-medium\n",
    "* OPT\n",
    "    * https://huggingface.co/docs/transformers/main/model_doc/opt\n",
    "* BLOOM\n",
    "    * https://huggingface.co/docs/transformers/model_doc/bloom\n",
    "    \n",
    "*Future*\n",
    "* Additional Bias Measurement Tasks? Examining other tasks like QA?\n",
    "* Other model family's like Encoder-only (BERT), Encoder-Decoder (T5)?"
   ]
  },
  {
   "cell_type": "code",
   "execution_count": null,
   "id": "a6690a06",
   "metadata": {},
   "outputs": [],
   "source": [
    "from bias_evaluation.gender_sensitivity_english import task"
   ]
  }
 ],
 "metadata": {
  "kernelspec": {
   "display_name": "Python 3 (ipykernel)",
   "language": "python",
   "name": "python3"
  },
  "language_info": {
   "codemirror_mode": {
    "name": "ipython",
    "version": 3
   },
   "file_extension": ".py",
   "mimetype": "text/x-python",
   "name": "python",
   "nbconvert_exporter": "python",
   "pygments_lexer": "ipython3",
   "version": "3.11.2"
  }
 },
 "nbformat": 4,
 "nbformat_minor": 5
}
