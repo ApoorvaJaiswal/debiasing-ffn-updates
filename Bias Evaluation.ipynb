{
 "cells": [
  {
   "cell_type": "markdown",
   "id": "e606777b",
   "metadata": {},
   "source": [
    "### Notebook Description ###\n",
    "\n",
    "This notebook is for obtaining various bias baselines.  Below are lists of tests and models that we are concerned with:\n",
    "\n",
    "*Bias Tests:*\n",
    "Gender Sensitivity for English\n",
    "https://github.com/google/BIG-bench/tree/main/bigbench/benchmark_tasks/gender_sensitivity_english\n",
    "Predicting the next word given a context (compatible with decoder only LMs)\n",
    "\n",
    "Social Bias \n",
    "https://github.com/google/BIG-bench/tree/main/bigbench/benchmark_tasks/diverse_social_bias\n",
    "Predicting the next word given a context (compatible with decoder only LMs)\n",
    "\n",
    "*Note:*\n",
    "Please see docs/big-bench-installation-guide.md for installing BIG-Bench\n",
    "\n",
    "*Decoder-Only Models:*\n",
    "* GPT-2\n",
    "    * https://huggingface.co/gpt2-medium\n",
    "* OPT\n",
    "    * https://huggingface.co/docs/transformers/main/model_doc/opt\n",
    "* BLOOM\n",
    "    * https://huggingface.co/docs/transformers/model_doc/bloom\n",
    "    \n",
    "*Future*\n",
    "* Additional Bias Measurement Tasks? Examining other tasks like QA?\n",
    "* Other model family's like Encoder-only (BERT), Encoder-Decoder (T5)?"
   ]
  },
  {
   "cell_type": "code",
   "execution_count": 1,
   "id": "a6690a06",
   "metadata": {},
   "outputs": [],
   "source": [
    "from bias_evaluation.gender_sensitivity_english.task import gender_sensitivity_test_English"
   ]
  },
  {
   "cell_type": "code",
   "execution_count": 2,
   "id": "63378226",
   "metadata": {},
   "outputs": [],
   "source": [
    "task = gender_sensitivity_test_English()"
   ]
  },
  {
   "cell_type": "code",
   "execution_count": 5,
   "id": "38839e57",
   "metadata": {},
   "outputs": [],
   "source": [
    "from model_wrappers.gpt2_wrapper import GPT2Wrapper\n",
    "wrapper = GPT2Wrapper(model_name = \"gpt2-medium\", use_cuda = False)"
   ]
  },
  {
   "cell_type": "code",
   "execution_count": 6,
   "id": "5a539e92",
   "metadata": {},
   "outputs": [
    {
     "name": "stdout",
     "output_type": "stream",
     "text": [
      "running gender neutrality test...\n"
     ]
    },
    {
     "ename": "ValueError",
     "evalue": "expected sequence of length 1 at dim 1 (got 2)",
     "output_type": "error",
     "traceback": [
      "\u001b[0;31m---------------------------------------------------------------------------\u001b[0m",
      "\u001b[0;31mValueError\u001b[0m                                Traceback (most recent call last)",
      "Cell \u001b[0;32mIn[6], line 1\u001b[0m\n\u001b[0;32m----> 1\u001b[0m \u001b[43mtask\u001b[49m\u001b[38;5;241;43m.\u001b[39;49m\u001b[43mevaluate_model\u001b[49m\u001b[43m(\u001b[49m\u001b[43mwrapper\u001b[49m\u001b[43m)\u001b[49m\n",
      "File \u001b[0;32m~/Documents/School/UMass/CS685/project/debiasing-ffn-updates/bias_evaluation/gender_sensitivity_english/task.py:108\u001b[0m, in \u001b[0;36mgender_sensitivity_test_English.evaluate_model\u001b[0;34m(self, model, max_examples, random_seed)\u001b[0m\n\u001b[1;32m    101\u001b[0m \u001b[38;5;28;01mdef\u001b[39;00m \u001b[38;5;21mevaluate_model\u001b[39m(\u001b[38;5;28mself\u001b[39m, model, max_examples\u001b[38;5;241m=\u001b[39m\u001b[38;5;28;01mNone\u001b[39;00m, random_seed\u001b[38;5;241m=\u001b[39m\u001b[38;5;28;01mNone\u001b[39;00m):\n\u001b[1;32m    102\u001b[0m \u001b[38;5;250m    \u001b[39m\u001b[38;5;124;03m\"\"\"evaluate the model on\u001b[39;00m\n\u001b[1;32m    103\u001b[0m \u001b[38;5;124;03m    (1) the gender neutrality test,\u001b[39;00m\n\u001b[1;32m    104\u001b[0m \u001b[38;5;124;03m    (2) the gender identification test, and\u001b[39;00m\n\u001b[1;32m    105\u001b[0m \u001b[38;5;124;03m    (3) PTB test.\u001b[39;00m\n\u001b[1;32m    106\u001b[0m \u001b[38;5;124;03m    \"\"\"\u001b[39;00m\n\u001b[0;32m--> 108\u001b[0m     biases, stereotypes \u001b[38;5;241m=\u001b[39m \u001b[38;5;28;43mself\u001b[39;49m\u001b[38;5;241;43m.\u001b[39;49m\u001b[43mgender_neutrality_test\u001b[49m\u001b[43m(\u001b[49m\u001b[43mmodel\u001b[49m\u001b[43m,\u001b[49m\u001b[43m \u001b[49m\u001b[43mmax_examples\u001b[49m\u001b[43m,\u001b[49m\u001b[43m \u001b[49m\u001b[43mrandom_seed\u001b[49m\u001b[43m)\u001b[49m\n\u001b[1;32m    109\u001b[0m     \u001b[38;5;66;03m# preds = self.gender_identification_test(model, max_examples, random_seed)\u001b[39;00m\n\u001b[1;32m    110\u001b[0m     \u001b[38;5;66;03m# ppl = self.PTB_test(model)\u001b[39;00m\n\u001b[1;32m    111\u001b[0m \n\u001b[1;32m    112\u001b[0m     \u001b[38;5;66;03m# self._log_neutrality(biases, stereotypes)\u001b[39;00m\n\u001b[1;32m    113\u001b[0m     \u001b[38;5;66;03m# self._log_identification(preds)\u001b[39;00m\n\u001b[1;32m    114\u001b[0m     \u001b[38;5;66;03m# self._log_PTB(ppl)\u001b[39;00m\n\u001b[1;32m    116\u001b[0m     \u001b[38;5;28;01mreturn\u001b[39;00m \u001b[38;5;28mself\u001b[39m\u001b[38;5;241m.\u001b[39mscore_data\n",
      "File \u001b[0;32m~/Documents/School/UMass/CS685/project/debiasing-ffn-updates/bias_evaluation/gender_sensitivity_english/task.py:190\u001b[0m, in \u001b[0;36mgender_sensitivity_test_English.gender_neutrality_test\u001b[0;34m(self, model, max_examples, random_seed)\u001b[0m\n\u001b[1;32m    186\u001b[0m questions_batch \u001b[38;5;241m=\u001b[39m [\n\u001b[1;32m    187\u001b[0m     (\u001b[38;5;124m\"\u001b[39m\u001b[38;5;124m \u001b[39m\u001b[38;5;124m\"\u001b[39m\u001b[38;5;241m.\u001b[39mjoin([prompts[j], \u001b[38;5;124m\"\u001b[39m\u001b[38;5;124mis\u001b[39m\u001b[38;5;124m\"\u001b[39m]) \u001b[38;5;241m+\u001b[39m \u001b[38;5;124m\"\u001b[39m\u001b[38;5;124m \u001b[39m\u001b[38;5;124m\"\u001b[39m) \u001b[38;5;28;01mfor\u001b[39;00m j \u001b[38;5;129;01min\u001b[39;00m \u001b[38;5;28mrange\u001b[39m(j_start, j_end)\n\u001b[1;32m    188\u001b[0m ]\n\u001b[1;32m    189\u001b[0m options_batch \u001b[38;5;241m=\u001b[39m [options \u001b[38;5;28;01mfor\u001b[39;00m j \u001b[38;5;129;01min\u001b[39;00m \u001b[38;5;28mrange\u001b[39m(j_start, j_end)]\n\u001b[0;32m--> 190\u001b[0m log_probs \u001b[38;5;241m=\u001b[39m \u001b[43mmodel\u001b[49m\u001b[38;5;241;43m.\u001b[39;49m\u001b[43mcond_log_prob\u001b[49m\u001b[43m(\u001b[49m\n\u001b[1;32m    191\u001b[0m \u001b[43m    \u001b[49m\u001b[43minputs\u001b[49m\u001b[38;5;241;43m=\u001b[39;49m\u001b[43mquestions_batch\u001b[49m\u001b[43m,\u001b[49m\n\u001b[1;32m    192\u001b[0m \u001b[43m    \u001b[49m\u001b[43mtargets\u001b[49m\u001b[38;5;241;43m=\u001b[39;49m\u001b[43moptions_batch\u001b[49m\u001b[43m,\u001b[49m\n\u001b[1;32m    193\u001b[0m \u001b[43m\u001b[49m\u001b[43m)\u001b[49m\n\u001b[1;32m    195\u001b[0m \u001b[38;5;28;01mfor\u001b[39;00m j \u001b[38;5;129;01min\u001b[39;00m \u001b[38;5;28mrange\u001b[39m(j_start, j_end):\n\u001b[1;32m    196\u001b[0m     log_prob \u001b[38;5;241m=\u001b[39m log_probs[j \u001b[38;5;241m-\u001b[39m j_start]\n",
      "File \u001b[0;32m~/Documents/School/UMass/CS685/project/debiasing-ffn-updates/model_wrappers/gpt2_wrapper.py:438\u001b[0m, in \u001b[0;36mGPT2Wrapper.cond_log_prob\u001b[0;34m(self, inputs, targets, batch_size, absolute_normalization)\u001b[0m\n\u001b[1;32m    435\u001b[0m     batch_inputs \u001b[38;5;241m=\u001b[39m flat_inputs[idx : \u001b[38;5;28mmin\u001b[39m(idx \u001b[38;5;241m+\u001b[39m batch_size, num_examples)]\n\u001b[1;32m    436\u001b[0m     batch_choices \u001b[38;5;241m=\u001b[39m flat_choices[idx : \u001b[38;5;28mmin\u001b[39m(idx \u001b[38;5;241m+\u001b[39m batch_size, num_examples)]\n\u001b[0;32m--> 438\u001b[0m     batch_scores \u001b[38;5;241m=\u001b[39m \u001b[38;5;28;43mself\u001b[39;49m\u001b[38;5;241;43m.\u001b[39;49m\u001b[43mscore\u001b[49m\u001b[43m(\u001b[49m\u001b[43mbatch_inputs\u001b[49m\u001b[43m,\u001b[49m\u001b[43m \u001b[49m\u001b[43mbatch_choices\u001b[49m\u001b[43m)\u001b[49m\n\u001b[1;32m    439\u001b[0m     flat_scores \u001b[38;5;241m+\u001b[39m\u001b[38;5;241m=\u001b[39m batch_scores\n\u001b[1;32m    441\u001b[0m scores \u001b[38;5;241m=\u001b[39m [[] \u001b[38;5;28;01mfor\u001b[39;00m _ \u001b[38;5;129;01min\u001b[39;00m \u001b[38;5;28mrange\u001b[39m(\u001b[38;5;28mlen\u001b[39m(input_list))]\n",
      "File \u001b[0;32m~/Documents/School/UMass/CS685/project/debiasing-ffn-updates/model_wrappers/gpt2_wrapper.py:353\u001b[0m, in \u001b[0;36mGPT2Wrapper.score\u001b[0;34m(self, inputs, targets, mask_token_id)\u001b[0m\n\u001b[1;32m    350\u001b[0m     input_list \u001b[38;5;241m=\u001b[39m inputs\n\u001b[1;32m    351\u001b[0m     target_list \u001b[38;5;241m=\u001b[39m targets\n\u001b[0;32m--> 353\u001b[0m tokenized_ids \u001b[38;5;241m=\u001b[39m \u001b[38;5;28;43mself\u001b[39;49m\u001b[38;5;241;43m.\u001b[39;49m\u001b[43m_gpt_batch_tokenize\u001b[49m\u001b[43m(\u001b[49m\n\u001b[1;32m    354\u001b[0m \u001b[43m    \u001b[49m\u001b[43mbatch_inputs\u001b[49m\u001b[38;5;241;43m=\u001b[39;49m\u001b[43minput_list\u001b[49m\u001b[43m,\u001b[49m\n\u001b[1;32m    355\u001b[0m \u001b[43m    \u001b[49m\u001b[43mbatch_targets\u001b[49m\u001b[38;5;241;43m=\u001b[39;49m\u001b[43mtarget_list\u001b[49m\u001b[43m,\u001b[49m\n\u001b[1;32m    356\u001b[0m \u001b[43m\u001b[49m\u001b[43m)\u001b[49m\n\u001b[1;32m    358\u001b[0m \u001b[38;5;66;03m#TODO Handle Truncation ... GPT2 max input is 1024\u001b[39;00m\n\u001b[1;32m    360\u001b[0m inputs_and_targets_ids \u001b[38;5;241m=\u001b[39m torch\u001b[38;5;241m.\u001b[39mtensor(tokenized_ids[\u001b[38;5;124m\"\u001b[39m\u001b[38;5;124minputs_and_targets_ids\u001b[39m\u001b[38;5;124m\"\u001b[39m])\n",
      "File \u001b[0;32m~/Documents/School/UMass/CS685/project/debiasing-ffn-updates/model_wrappers/gpt2_wrapper.py:277\u001b[0m, in \u001b[0;36mGPT2Wrapper._gpt_batch_tokenize\u001b[0;34m(self, batch_inputs, batch_targets, mask_token_id)\u001b[0m\n\u001b[1;32m    269\u001b[0m ragged_inputs_and_targets_ids \u001b[38;5;241m=\u001b[39m [\n\u001b[1;32m    270\u001b[0m     inp \u001b[38;5;241m+\u001b[39m tar \u001b[38;5;28;01mfor\u001b[39;00m inp, tar \u001b[38;5;129;01min\u001b[39;00m \u001b[38;5;28mzip\u001b[39m(ragged_inputs_ids, ragged_targets_ids)\n\u001b[1;32m    271\u001b[0m ]\n\u001b[1;32m    273\u001b[0m inputs_and_targets_ids \u001b[38;5;241m=\u001b[39m \u001b[38;5;28mself\u001b[39m\u001b[38;5;241m.\u001b[39m_left_pad_ragged_lists(\n\u001b[1;32m    274\u001b[0m     ragged_lists\u001b[38;5;241m=\u001b[39mragged_inputs_and_targets_ids, pad_value\u001b[38;5;241m=\u001b[39m\u001b[38;5;28mself\u001b[39m\u001b[38;5;241m.\u001b[39m_tokenizer\u001b[38;5;241m.\u001b[39mpad_token_id\n\u001b[1;32m    275\u001b[0m )\n\u001b[0;32m--> 277\u001b[0m targets_ids \u001b[38;5;241m=\u001b[39m \u001b[38;5;28;43mself\u001b[39;49m\u001b[38;5;241;43m.\u001b[39;49m\u001b[43m_left_pad_constant_length\u001b[49m\u001b[43m(\u001b[49m\n\u001b[1;32m    278\u001b[0m \u001b[43m    \u001b[49m\u001b[43minput_tensor\u001b[49m\u001b[38;5;241;43m=\u001b[39;49m\u001b[43mragged_targets_ids\u001b[49m\u001b[43m,\u001b[49m\n\u001b[1;32m    279\u001b[0m \u001b[43m    \u001b[49m\u001b[43mpad_value\u001b[49m\u001b[38;5;241;43m=\u001b[39;49m\u001b[43mmask_token_id\u001b[49m\u001b[43m,\u001b[49m\n\u001b[1;32m    280\u001b[0m \u001b[43m    \u001b[49m\u001b[43mlength\u001b[49m\u001b[38;5;241;43m=\u001b[39;49m\u001b[43minputs_and_targets_ids\u001b[49m\u001b[38;5;241;43m.\u001b[39;49m\u001b[43mshape\u001b[49m\u001b[43m[\u001b[49m\u001b[38;5;241;43m1\u001b[39;49m\u001b[43m]\u001b[49m\u001b[38;5;241;43m-\u001b[39;49m\u001b[38;5;241;43m1\u001b[39;49m\u001b[43m,\u001b[49m\n\u001b[1;32m    281\u001b[0m \u001b[43m\u001b[49m\u001b[43m)\u001b[49m\n\u001b[1;32m    283\u001b[0m \u001b[38;5;66;03m# Infer the values of the attention_mask and position_ids:\u001b[39;00m\n\u001b[1;32m    284\u001b[0m attention_mask \u001b[38;5;241m=\u001b[39m inputs_and_targets_ids \u001b[38;5;241m!=\u001b[39m \u001b[38;5;28mself\u001b[39m\u001b[38;5;241m.\u001b[39m_tokenizer\u001b[38;5;241m.\u001b[39mpad_token_id\n",
      "File \u001b[0;32m~/Documents/School/UMass/CS685/project/debiasing-ffn-updates/model_wrappers/gpt2_wrapper.py:226\u001b[0m, in \u001b[0;36mGPT2Wrapper._left_pad_constant_length\u001b[0;34m(self, input_tensor, pad_value, length)\u001b[0m\n\u001b[1;32m    219\u001b[0m \u001b[38;5;28;01mdef\u001b[39;00m \u001b[38;5;21m_left_pad_constant_length\u001b[39m(\u001b[38;5;28mself\u001b[39m, input_tensor, pad_value, length):\n\u001b[1;32m    220\u001b[0m \u001b[38;5;250m    \u001b[39m\u001b[38;5;124;03m\"\"\"\u001b[39;00m\n\u001b[1;32m    221\u001b[0m \u001b[38;5;124;03m    Adds padding to the left of each list.\u001b[39;00m\n\u001b[1;32m    222\u001b[0m \n\u001b[1;32m    223\u001b[0m \u001b[38;5;124;03m    Originally _left_pad_ragged_lists took care of this use case too but torch does\u001b[39;00m\n\u001b[1;32m    224\u001b[0m \u001b[38;5;124;03m    not have an analogous implementation of tf.RaggedTensor\u001b[39;00m\n\u001b[1;32m    225\u001b[0m \u001b[38;5;124;03m    \"\"\"\u001b[39;00m\n\u001b[0;32m--> 226\u001b[0m     \u001b[38;5;28;01mreturn\u001b[39;00m F\u001b[38;5;241m.\u001b[39mpad(\u001b[43mtorch\u001b[49m\u001b[38;5;241;43m.\u001b[39;49m\u001b[43mtensor\u001b[49m\u001b[43m(\u001b[49m\u001b[43minput_tensor\u001b[49m\u001b[43m)\u001b[49m, (length,\u001b[38;5;241m0\u001b[39m), \u001b[38;5;124m'\u001b[39m\u001b[38;5;124mconstant\u001b[39m\u001b[38;5;124m'\u001b[39m, pad_value)\n",
      "\u001b[0;31mValueError\u001b[0m: expected sequence of length 1 at dim 1 (got 2)"
     ]
    }
   ],
   "source": [
    "task.evaluate_model(wrapper)"
   ]
  },
  {
   "cell_type": "code",
   "execution_count": null,
   "id": "43086682",
   "metadata": {},
   "outputs": [],
   "source": []
  }
 ],
 "metadata": {
  "kernelspec": {
   "display_name": "Python 3 (ipykernel)",
   "language": "python",
   "name": "python3"
  },
  "language_info": {
   "codemirror_mode": {
    "name": "ipython",
    "version": 3
   },
   "file_extension": ".py",
   "mimetype": "text/x-python",
   "name": "python",
   "nbconvert_exporter": "python",
   "pygments_lexer": "ipython3",
   "version": "3.11.2"
  }
 },
 "nbformat": 4,
 "nbformat_minor": 5
}
